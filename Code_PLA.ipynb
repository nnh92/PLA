{
  "nbformat": 4,
  "nbformat_minor": 0,
  "metadata": {
    "colab": {
      "name": "GD2.ipynb",
      "provenance": [],
      "collapsed_sections": [],
      "authorship_tag": "ABX9TyOUxH+HxiRze8JicuP6hn9s",
      "include_colab_link": true
    },
    "kernelspec": {
      "name": "python3",
      "display_name": "Python 3"
    },
    "language_info": {
      "name": "python"
    }
  },
  "cells": [
    {
      "cell_type": "markdown",
      "metadata": {
        "id": "view-in-github",
        "colab_type": "text"
      },
      "source": [
        "<a href=\"https://colab.research.google.com/github/nnh92/PLA/blob/main/Code_PLA.ipynb\" target=\"_parent\"><img src=\"https://colab.research.google.com/assets/colab-badge.svg\" alt=\"Open In Colab\"/></a>"
      ]
    },
    {
      "cell_type": "code",
      "metadata": {
        "id": "z_uOdLi4153m"
      },
      "source": [
        "import numpy as np\n",
        "import matplotlib.pyplot as plt\n",
        "from scipy.spatial.distance import cdist\n",
        "\n",
        "means = [[2,2],[4,2]]\n",
        "cov =[[.3,.2],[.2,.3]]\n",
        "N = 10\n",
        "\n",
        "X0 = np.random.multivariate_normal(means[0], cov, N).T\n",
        "X1 = np.random.multivariate_normal(means[1], cov, N).T\n",
        "\n",
        "X = np.concatenate((X0,X1), axis = 1)\n",
        "y = np.concatenate((np.ones((1,N)), -1*np.ones((1,N))), axis = 1)\n",
        "\n",
        "plt.show()"
      ],
      "execution_count": 4,
      "outputs": []
    }
  ]
}