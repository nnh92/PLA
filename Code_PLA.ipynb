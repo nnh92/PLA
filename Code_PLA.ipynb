{
  "nbformat": 4,
  "nbformat_minor": 0,
  "metadata": {
    "colab": {
      "name": "GD2.ipynb",
      "provenance": [],
      "collapsed_sections": [],
      "authorship_tag": "ABX9TyNrlunCuok6jvDNmNkz35Vq",
      "include_colab_link": true
    },
    "kernelspec": {
      "name": "python3",
      "display_name": "Python 3"
    },
    "language_info": {
      "name": "python"
    }
  },
  "cells": [
    {
      "cell_type": "markdown",
      "metadata": {
        "id": "view-in-github",
        "colab_type": "text"
      },
      "source": [
        "<a href=\"https://colab.research.google.com/github/nnh92/PLA/blob/main/Code_PLA.ipynb\" target=\"_parent\"><img src=\"https://colab.research.google.com/assets/colab-badge.svg\" alt=\"Open In Colab\"/></a>"
      ]
    },
    {
      "cell_type": "code",
      "metadata": {
        "id": "z_uOdLi4153m",
        "colab": {
          "base_uri": "https://localhost:8080/",
          "height": 265
        },
        "outputId": "6c6675a9-b62d-4661-9dcc-a9eebdffde74"
      },
      "source": [
        "import numpy as np\n",
        "import matplotlib.pyplot as plt\n",
        "from scipy.spatial.distance import cdist\n",
        "\n",
        "means = [[2,2],[4,2]]\n",
        "cov =[[.3,.2],[.2,.3]]\n",
        "N = 20\n",
        "\n",
        "X0 = np.random.multivariate_normal(means[0], cov, N).T\n",
        "X1 = np.random.multivariate_normal(means[1], cov, N).T\n",
        "\n",
        "X = np.concatenate((X0,X1), axis = 1)\n",
        "y = np.concatenate((np.ones((1,N)), -1*np.ones((1,N))), axis = 1)\n",
        "\n",
        "def h(w,x):\n",
        "  return np.sign(np.dot(w.T,x))\n",
        "\n",
        "def has_converged(x, y, w):\n",
        "  return np.array_equal(h(w,x), y)\n",
        "\n",
        "def perceptron(x, y, w_init):\n",
        "  w = [w_init]\n",
        "  N = X.shape[1]\n",
        "  d = X.shape[0]\n",
        "  miss_point = []\n",
        "  \n",
        "\n",
        "\n",
        "plt.plot(X0[0,:],X0[1,:], 'b^', markersize = 5, alpha = .5)\n",
        "plt.plot(X1[0,:],X1[1,:], 'ro', markersize = 5, alpha = .5)\n",
        "plt.show()"
      ],
      "execution_count": 2,
      "outputs": [
        {
          "output_type": "display_data",
          "data": {
            "image/png": "[encoded data removed]",
            "text/plain": [
              "<Figure size 432x288 with 1 Axes>"
            ]
          },
          "metadata": {
            "needs_background": "light"
          }
        }
      ]
    }
  ]
}